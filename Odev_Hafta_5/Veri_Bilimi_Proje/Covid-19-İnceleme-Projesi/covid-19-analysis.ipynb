{
 "cells": [
  {
   "cell_type": "markdown",
   "id": "9dc7b562",
   "metadata": {
    "papermill": {
     "duration": 0.006061,
     "end_time": "2025-05-18T17:03:45.764758",
     "exception": false,
     "start_time": "2025-05-18T17:03:45.758697",
     "status": "completed"
    },
    "tags": []
   },
   "source": [
    "Bu çalışmada, CORD-19 veri seti kullanılarak aşıyla (vaccine) ilgili bilimsel makaleler filtrelenmiş, analiz edilmiş ve bu içerikler üzerinden çeşitli metin madenciliği yöntemleri uygulanmıştır. Hedef, aşıyla ilgili makaleleri sınıflandırmak, sık geçen terimleri görselleştirmek ve temel bir makine öğrenmesi modeli geliştirmektir.\n",
    "\n"
   ]
  },
  {
   "cell_type": "markdown",
   "id": "bd059bc9",
   "metadata": {},
   "source": [
    "Link: https://www.kaggle.com/allen-institute-for-ai/CORD-19-research-challenge"
   ]
  },
  {
   "cell_type": "markdown",
   "id": "cf0e2a70",
   "metadata": {},
   "source": []
  },
  {
   "cell_type": "code",
   "execution_count": 1,
   "id": "7f62bb87",
   "metadata": {
    "execution": {
     "iopub.execute_input": "2025-05-18T17:03:45.775784Z",
     "iopub.status.busy": "2025-05-18T17:03:45.775486Z",
     "iopub.status.idle": "2025-05-18T17:03:47.604741Z",
     "shell.execute_reply": "2025-05-18T17:03:47.603925Z"
    },
    "papermill": {
     "duration": 1.836842,
     "end_time": "2025-05-18T17:03:47.606440",
     "exception": false,
     "start_time": "2025-05-18T17:03:45.769598",
     "status": "completed"
    },
    "tags": []
   },
   "outputs": [],
   "source": [
    "import pandas as pd\n",
    "import numpy as np\n",
    "import matplotlib.pyplot as plt\n",
    "import warnings\n",
    "warnings.filterwarnings(\"ignore\")"
   ]
  },
  {
   "cell_type": "code",
   "execution_count": 2,
   "id": "ca689753",
   "metadata": {
    "execution": {
     "iopub.execute_input": "2025-05-18T17:03:47.617129Z",
     "iopub.status.busy": "2025-05-18T17:03:47.616694Z",
     "iopub.status.idle": "2025-05-18T17:03:47.685855Z",
     "shell.execute_reply": "2025-05-18T17:03:47.685070Z"
    },
    "papermill": {
     "duration": 0.075919,
     "end_time": "2025-05-18T17:03:47.687180",
     "exception": false,
     "start_time": "2025-05-18T17:03:47.611261",
     "status": "completed"
    },
    "tags": []
   },
   "outputs": [
    {
     "data": {
      "text/html": [
       "<div>\n",
       "<style scoped>\n",
       "    .dataframe tbody tr th:only-of-type {\n",
       "        vertical-align: middle;\n",
       "    }\n",
       "\n",
       "    .dataframe tbody tr th {\n",
       "        vertical-align: top;\n",
       "    }\n",
       "\n",
       "    .dataframe thead th {\n",
       "        text-align: right;\n",
       "    }\n",
       "</style>\n",
       "<table border=\"1\" class=\"dataframe\">\n",
       "  <thead>\n",
       "    <tr style=\"text-align: right;\">\n",
       "      <th></th>\n",
       "      <th>cord_uid</th>\n",
       "      <th>sha</th>\n",
       "      <th>source_x</th>\n",
       "      <th>title</th>\n",
       "      <th>doi</th>\n",
       "      <th>pmcid</th>\n",
       "      <th>pubmed_id</th>\n",
       "      <th>license</th>\n",
       "      <th>abstract</th>\n",
       "      <th>publish_time</th>\n",
       "      <th>authors</th>\n",
       "      <th>journal</th>\n",
       "      <th>mag_id</th>\n",
       "      <th>who_covidence_id</th>\n",
       "      <th>arxiv_id</th>\n",
       "      <th>pdf_json_files</th>\n",
       "      <th>pmc_json_files</th>\n",
       "      <th>url</th>\n",
       "      <th>s2_id</th>\n",
       "    </tr>\n",
       "  </thead>\n",
       "  <tbody>\n",
       "    <tr>\n",
       "      <th>0</th>\n",
       "      <td>ug7v899j</td>\n",
       "      <td>d1aafb70c066a2068b02786f8929fd9c900897fb</td>\n",
       "      <td>PMC</td>\n",
       "      <td>Clinical features of culture-proven Mycoplasma...</td>\n",
       "      <td>10.1186/1471-2334-1-6</td>\n",
       "      <td>PMC35282</td>\n",
       "      <td>11472636</td>\n",
       "      <td>no-cc</td>\n",
       "      <td>OBJECTIVE: This retrospective chart review des...</td>\n",
       "      <td>2001-07-04</td>\n",
       "      <td>Madani, Tariq A; Al-Ghamdi, Aisha A</td>\n",
       "      <td>BMC Infect Dis</td>\n",
       "      <td>NaN</td>\n",
       "      <td>NaN</td>\n",
       "      <td>NaN</td>\n",
       "      <td>document_parses/pdf_json/d1aafb70c066a2068b027...</td>\n",
       "      <td>document_parses/pmc_json/PMC35282.xml.json</td>\n",
       "      <td>https://www.ncbi.nlm.nih.gov/pmc/articles/PMC3...</td>\n",
       "      <td>NaN</td>\n",
       "    </tr>\n",
       "    <tr>\n",
       "      <th>1</th>\n",
       "      <td>02tnwd4m</td>\n",
       "      <td>6b0567729c2143a66d737eb0a2f63f2dce2e5a7d</td>\n",
       "      <td>PMC</td>\n",
       "      <td>Nitric oxide: a pro-inflammatory mediator in l...</td>\n",
       "      <td>10.1186/rr14</td>\n",
       "      <td>PMC59543</td>\n",
       "      <td>11667967</td>\n",
       "      <td>no-cc</td>\n",
       "      <td>Inflammatory diseases of the respiratory tract...</td>\n",
       "      <td>2000-08-15</td>\n",
       "      <td>Vliet, Albert van der; Eiserich, Jason P; Cros...</td>\n",
       "      <td>Respir Res</td>\n",
       "      <td>NaN</td>\n",
       "      <td>NaN</td>\n",
       "      <td>NaN</td>\n",
       "      <td>document_parses/pdf_json/6b0567729c2143a66d737...</td>\n",
       "      <td>document_parses/pmc_json/PMC59543.xml.json</td>\n",
       "      <td>https://www.ncbi.nlm.nih.gov/pmc/articles/PMC5...</td>\n",
       "      <td>NaN</td>\n",
       "    </tr>\n",
       "    <tr>\n",
       "      <th>2</th>\n",
       "      <td>ejv2xln0</td>\n",
       "      <td>06ced00a5fc04215949aa72528f2eeaae1d58927</td>\n",
       "      <td>PMC</td>\n",
       "      <td>Surfactant protein-D and pulmonary host defense</td>\n",
       "      <td>10.1186/rr19</td>\n",
       "      <td>PMC59549</td>\n",
       "      <td>11667972</td>\n",
       "      <td>no-cc</td>\n",
       "      <td>Surfactant protein-D (SP-D) participates in th...</td>\n",
       "      <td>2000-08-25</td>\n",
       "      <td>Crouch, Erika C</td>\n",
       "      <td>Respir Res</td>\n",
       "      <td>NaN</td>\n",
       "      <td>NaN</td>\n",
       "      <td>NaN</td>\n",
       "      <td>document_parses/pdf_json/06ced00a5fc04215949aa...</td>\n",
       "      <td>document_parses/pmc_json/PMC59549.xml.json</td>\n",
       "      <td>https://www.ncbi.nlm.nih.gov/pmc/articles/PMC5...</td>\n",
       "      <td>NaN</td>\n",
       "    </tr>\n",
       "    <tr>\n",
       "      <th>3</th>\n",
       "      <td>2b73a28n</td>\n",
       "      <td>348055649b6b8cf2b9a376498df9bf41f7123605</td>\n",
       "      <td>PMC</td>\n",
       "      <td>Role of endothelin-1 in lung disease</td>\n",
       "      <td>10.1186/rr44</td>\n",
       "      <td>PMC59574</td>\n",
       "      <td>11686871</td>\n",
       "      <td>no-cc</td>\n",
       "      <td>Endothelin-1 (ET-1) is a 21 amino acid peptide...</td>\n",
       "      <td>2001-02-22</td>\n",
       "      <td>Fagan, Karen A; McMurtry, Ivan F; Rodman, David M</td>\n",
       "      <td>Respir Res</td>\n",
       "      <td>NaN</td>\n",
       "      <td>NaN</td>\n",
       "      <td>NaN</td>\n",
       "      <td>document_parses/pdf_json/348055649b6b8cf2b9a37...</td>\n",
       "      <td>document_parses/pmc_json/PMC59574.xml.json</td>\n",
       "      <td>https://www.ncbi.nlm.nih.gov/pmc/articles/PMC5...</td>\n",
       "      <td>NaN</td>\n",
       "    </tr>\n",
       "    <tr>\n",
       "      <th>4</th>\n",
       "      <td>9785vg6d</td>\n",
       "      <td>5f48792a5fa08bed9f56016f4981ae2ca6031b32</td>\n",
       "      <td>PMC</td>\n",
       "      <td>Gene expression in epithelial cells in respons...</td>\n",
       "      <td>10.1186/rr61</td>\n",
       "      <td>PMC59580</td>\n",
       "      <td>11686888</td>\n",
       "      <td>no-cc</td>\n",
       "      <td>Respiratory syncytial virus (RSV) and pneumoni...</td>\n",
       "      <td>2001-05-11</td>\n",
       "      <td>Domachowske, Joseph B; Bonville, Cynthia A; Ro...</td>\n",
       "      <td>Respir Res</td>\n",
       "      <td>NaN</td>\n",
       "      <td>NaN</td>\n",
       "      <td>NaN</td>\n",
       "      <td>document_parses/pdf_json/5f48792a5fa08bed9f560...</td>\n",
       "      <td>document_parses/pmc_json/PMC59580.xml.json</td>\n",
       "      <td>https://www.ncbi.nlm.nih.gov/pmc/articles/PMC5...</td>\n",
       "      <td>NaN</td>\n",
       "    </tr>\n",
       "  </tbody>\n",
       "</table>\n",
       "</div>"
      ],
      "text/plain": [
       "   cord_uid                                       sha source_x  \\\n",
       "0  ug7v899j  d1aafb70c066a2068b02786f8929fd9c900897fb      PMC   \n",
       "1  02tnwd4m  6b0567729c2143a66d737eb0a2f63f2dce2e5a7d      PMC   \n",
       "2  ejv2xln0  06ced00a5fc04215949aa72528f2eeaae1d58927      PMC   \n",
       "3  2b73a28n  348055649b6b8cf2b9a376498df9bf41f7123605      PMC   \n",
       "4  9785vg6d  5f48792a5fa08bed9f56016f4981ae2ca6031b32      PMC   \n",
       "\n",
       "                                               title                    doi  \\\n",
       "0  Clinical features of culture-proven Mycoplasma...  10.1186/1471-2334-1-6   \n",
       "1  Nitric oxide: a pro-inflammatory mediator in l...           10.1186/rr14   \n",
       "2    Surfactant protein-D and pulmonary host defense           10.1186/rr19   \n",
       "3               Role of endothelin-1 in lung disease           10.1186/rr44   \n",
       "4  Gene expression in epithelial cells in respons...           10.1186/rr61   \n",
       "\n",
       "      pmcid  pubmed_id license  \\\n",
       "0  PMC35282   11472636   no-cc   \n",
       "1  PMC59543   11667967   no-cc   \n",
       "2  PMC59549   11667972   no-cc   \n",
       "3  PMC59574   11686871   no-cc   \n",
       "4  PMC59580   11686888   no-cc   \n",
       "\n",
       "                                            abstract publish_time  \\\n",
       "0  OBJECTIVE: This retrospective chart review des...   2001-07-04   \n",
       "1  Inflammatory diseases of the respiratory tract...   2000-08-15   \n",
       "2  Surfactant protein-D (SP-D) participates in th...   2000-08-25   \n",
       "3  Endothelin-1 (ET-1) is a 21 amino acid peptide...   2001-02-22   \n",
       "4  Respiratory syncytial virus (RSV) and pneumoni...   2001-05-11   \n",
       "\n",
       "                                             authors         journal  mag_id  \\\n",
       "0                Madani, Tariq A; Al-Ghamdi, Aisha A  BMC Infect Dis     NaN   \n",
       "1  Vliet, Albert van der; Eiserich, Jason P; Cros...      Respir Res     NaN   \n",
       "2                                    Crouch, Erika C      Respir Res     NaN   \n",
       "3  Fagan, Karen A; McMurtry, Ivan F; Rodman, David M      Respir Res     NaN   \n",
       "4  Domachowske, Joseph B; Bonville, Cynthia A; Ro...      Respir Res     NaN   \n",
       "\n",
       "   who_covidence_id  arxiv_id  \\\n",
       "0               NaN       NaN   \n",
       "1               NaN       NaN   \n",
       "2               NaN       NaN   \n",
       "3               NaN       NaN   \n",
       "4               NaN       NaN   \n",
       "\n",
       "                                      pdf_json_files  \\\n",
       "0  document_parses/pdf_json/d1aafb70c066a2068b027...   \n",
       "1  document_parses/pdf_json/6b0567729c2143a66d737...   \n",
       "2  document_parses/pdf_json/06ced00a5fc04215949aa...   \n",
       "3  document_parses/pdf_json/348055649b6b8cf2b9a37...   \n",
       "4  document_parses/pdf_json/5f48792a5fa08bed9f560...   \n",
       "\n",
       "                               pmc_json_files  \\\n",
       "0  document_parses/pmc_json/PMC35282.xml.json   \n",
       "1  document_parses/pmc_json/PMC59543.xml.json   \n",
       "2  document_parses/pmc_json/PMC59549.xml.json   \n",
       "3  document_parses/pmc_json/PMC59574.xml.json   \n",
       "4  document_parses/pmc_json/PMC59580.xml.json   \n",
       "\n",
       "                                                 url  s2_id  \n",
       "0  https://www.ncbi.nlm.nih.gov/pmc/articles/PMC3...    NaN  \n",
       "1  https://www.ncbi.nlm.nih.gov/pmc/articles/PMC5...    NaN  \n",
       "2  https://www.ncbi.nlm.nih.gov/pmc/articles/PMC5...    NaN  \n",
       "3  https://www.ncbi.nlm.nih.gov/pmc/articles/PMC5...    NaN  \n",
       "4  https://www.ncbi.nlm.nih.gov/pmc/articles/PMC5...    NaN  "
      ]
     },
     "execution_count": 2,
     "metadata": {},
     "output_type": "execute_result"
    }
   ],
   "source": [
    "DATA_PATH = '/kaggle/input/CORD-19-research-challenge/metadata.csv'\n",
    "df = pd.read_csv(DATA_PATH, nrows=200)\n",
    "df.head()"
   ]
  },
  {
   "cell_type": "code",
   "execution_count": 3,
   "id": "d2bc3748",
   "metadata": {
    "execution": {
     "iopub.execute_input": "2025-05-18T17:03:47.698334Z",
     "iopub.status.busy": "2025-05-18T17:03:47.698061Z",
     "iopub.status.idle": "2025-05-18T17:03:47.703278Z",
     "shell.execute_reply": "2025-05-18T17:03:47.702608Z"
    },
    "papermill": {
     "duration": 0.012305,
     "end_time": "2025-05-18T17:03:47.704616",
     "exception": false,
     "start_time": "2025-05-18T17:03:47.692311",
     "status": "completed"
    },
    "tags": []
   },
   "outputs": [
    {
     "data": {
      "text/plain": [
       "(200, 19)"
      ]
     },
     "execution_count": 3,
     "metadata": {},
     "output_type": "execute_result"
    }
   ],
   "source": [
    "df.shape #veri seti kolon ve sutun hakkkında bilgi verir "
   ]
  },
  {
   "cell_type": "code",
   "execution_count": 4,
   "id": "0c8dc062",
   "metadata": {
    "execution": {
     "iopub.execute_input": "2025-05-18T17:03:47.715844Z",
     "iopub.status.busy": "2025-05-18T17:03:47.715532Z",
     "iopub.status.idle": "2025-05-18T17:03:47.740461Z",
     "shell.execute_reply": "2025-05-18T17:03:47.739584Z"
    },
    "papermill": {
     "duration": 0.031926,
     "end_time": "2025-05-18T17:03:47.741676",
     "exception": false,
     "start_time": "2025-05-18T17:03:47.709750",
     "status": "completed"
    },
    "tags": []
   },
   "outputs": [
    {
     "name": "stdout",
     "output_type": "stream",
     "text": [
      "<class 'pandas.core.frame.DataFrame'>\n",
      "RangeIndex: 200 entries, 0 to 199\n",
      "Data columns (total 19 columns):\n",
      " #   Column            Non-Null Count  Dtype  \n",
      "---  ------            --------------  -----  \n",
      " 0   cord_uid          200 non-null    object \n",
      " 1   sha               192 non-null    object \n",
      " 2   source_x          200 non-null    object \n",
      " 3   title             200 non-null    object \n",
      " 4   doi               200 non-null    object \n",
      " 5   pmcid             200 non-null    object \n",
      " 6   pubmed_id         200 non-null    int64  \n",
      " 7   license           200 non-null    object \n",
      " 8   abstract          191 non-null    object \n",
      " 9   publish_time      200 non-null    object \n",
      " 10  authors           194 non-null    object \n",
      " 11  journal           200 non-null    object \n",
      " 12  mag_id            0 non-null      float64\n",
      " 13  who_covidence_id  0 non-null      float64\n",
      " 14  arxiv_id          0 non-null      float64\n",
      " 15  pdf_json_files    192 non-null    object \n",
      " 16  pmc_json_files    188 non-null    object \n",
      " 17  url               200 non-null    object \n",
      " 18  s2_id             0 non-null      float64\n",
      "dtypes: float64(4), int64(1), object(14)\n",
      "memory usage: 29.8+ KB\n"
     ]
    }
   ],
   "source": [
    "df.info()"
   ]
  },
  {
   "cell_type": "code",
   "execution_count": 5,
   "id": "71678294",
   "metadata": {
    "execution": {
     "iopub.execute_input": "2025-05-18T17:03:47.753387Z",
     "iopub.status.busy": "2025-05-18T17:03:47.752769Z",
     "iopub.status.idle": "2025-05-18T17:03:47.758081Z",
     "shell.execute_reply": "2025-05-18T17:03:47.757419Z"
    },
    "papermill": {
     "duration": 0.012497,
     "end_time": "2025-05-18T17:03:47.759339",
     "exception": false,
     "start_time": "2025-05-18T17:03:47.746842",
     "status": "completed"
    },
    "tags": []
   },
   "outputs": [
    {
     "data": {
      "text/plain": [
       "Index(['cord_uid', 'sha', 'source_x', 'title', 'doi', 'pmcid', 'pubmed_id',\n",
       "       'license', 'abstract', 'publish_time', 'authors', 'journal', 'mag_id',\n",
       "       'who_covidence_id', 'arxiv_id', 'pdf_json_files', 'pmc_json_files',\n",
       "       'url', 's2_id'],\n",
       "      dtype='object')"
      ]
     },
     "execution_count": 5,
     "metadata": {},
     "output_type": "execute_result"
    }
   ],
   "source": [
    "df.columns"
   ]
  },
  {
   "cell_type": "code",
   "execution_count": 6,
   "id": "b3c28263",
   "metadata": {
    "execution": {
     "iopub.execute_input": "2025-05-18T17:03:47.771214Z",
     "iopub.status.busy": "2025-05-18T17:03:47.770488Z",
     "iopub.status.idle": "2025-05-18T17:03:47.851218Z",
     "shell.execute_reply": "2025-05-18T17:03:47.850091Z"
    },
    "papermill": {
     "duration": 0.08791,
     "end_time": "2025-05-18T17:03:47.852432",
     "exception": true,
     "start_time": "2025-05-18T17:03:47.764522",
     "status": "failed"
    },
    "tags": []
   },
   "outputs": [
    {
     "ename": "NameError",
     "evalue": "name 'data' is not defined",
     "output_type": "error",
     "traceback": [
      "\u001b[0;31m---------------------------------------------------------------------------\u001b[0m",
      "\u001b[0;31mNameError\u001b[0m                                 Traceback (most recent call last)",
      "\u001b[0;32m/tmp/ipykernel_13/1500119742.py\u001b[0m in \u001b[0;36m<cell line: 0>\u001b[0;34m()\u001b[0m\n\u001b[0;32m----> 1\u001b[0;31m \u001b[0mdata\u001b[0m\u001b[0;34m.\u001b[0m\u001b[0misnull\u001b[0m\u001b[0;34m(\u001b[0m\u001b[0;34m)\u001b[0m\u001b[0;34m.\u001b[0m\u001b[0msum\u001b[0m\u001b[0;34m(\u001b[0m\u001b[0;34m)\u001b[0m  \u001b[0;31m#boş değerlerin kolonda kaç tane olduğunu verir\u001b[0m\u001b[0;34m\u001b[0m\u001b[0;34m\u001b[0m\u001b[0m\n\u001b[0m",
      "\u001b[0;31mNameError\u001b[0m: name 'data' is not defined"
     ]
    }
   ],
   "source": [
    "data.isnull().sum()  #boş değerlerin kolonda kaç tane olduğunu verir"
   ]
  },
  {
   "cell_type": "markdown",
   "id": "a7ad15b6",
   "metadata": {
    "papermill": {
     "duration": null,
     "end_time": null,
     "exception": null,
     "start_time": null,
     "status": "pending"
    },
    "tags": []
   },
   "source": [
    "# **Data Cleaning**"
   ]
  },
  {
   "cell_type": "code",
   "execution_count": null,
   "id": "8ff9b8af",
   "metadata": {
    "execution": {
     "iopub.execute_input": "2025-05-18T16:22:11.786929Z",
     "iopub.status.busy": "2025-05-18T16:22:11.786624Z",
     "iopub.status.idle": "2025-05-18T16:22:11.796251Z",
     "shell.execute_reply": "2025-05-18T16:22:11.795026Z",
     "shell.execute_reply.started": "2025-05-18T16:22:11.786909Z"
    },
    "papermill": {
     "duration": null,
     "end_time": null,
     "exception": null,
     "start_time": null,
     "status": "pending"
    },
    "tags": []
   },
   "outputs": [],
   "source": [
    "print(\"Dropping rows with missing 'abstract' or 'title'\")\n",
    "initial_rows = len(df)\n",
    "required_cols = ['abstract', 'title'] #abstract ve title da null olanları temizle\n",
    "df.dropna(subset=required_cols, axis=0, inplace=True)\n",
    "print(f\"Shape after dropping null abstracts & titles: {df.shape}\")\n",
    "print(f\"Rows removed: {initial_rows - len(df)}\")"
   ]
  },
  {
   "cell_type": "code",
   "execution_count": null,
   "id": "5b68d88f",
   "metadata": {
    "execution": {
     "iopub.execute_input": "2025-05-18T16:25:34.140742Z",
     "iopub.status.busy": "2025-05-18T16:25:34.140377Z",
     "iopub.status.idle": "2025-05-18T16:25:34.158250Z",
     "shell.execute_reply": "2025-05-18T16:25:34.157260Z",
     "shell.execute_reply.started": "2025-05-18T16:25:34.140701Z"
    },
    "papermill": {
     "duration": null,
     "end_time": null,
     "exception": null,
     "start_time": null,
     "status": "pending"
    },
    "tags": []
   },
   "outputs": [],
   "source": [
    "# Filter for abstracts that mention the word \"vaccine\"\n",
    "vaccine_papers = df[df['abstract'].str.contains(\"vaccine\", case=False, na=False)]\n",
    "\n",
    "# Show how many were found\n",
    "print(f\"Found {len(vaccine_papers)} papers mentioning 'vaccine'.\")\n",
    "\n",
    "# Preview 5 of them\n",
    "vaccine_papers[['title', 'abstract', 'publish_time']].head()"
   ]
  },
  {
   "cell_type": "markdown",
   "id": "f8ae923a",
   "metadata": {
    "papermill": {
     "duration": null,
     "end_time": null,
     "exception": null,
     "start_time": null,
     "status": "pending"
    },
    "tags": []
   },
   "source": [
    "# **Aşıyla ilgili makalelerde en sık geçen kelimeleri büyüklüklerine göre vurgulayan bir görsel yaratma# .**"
   ]
  },
  {
   "cell_type": "code",
   "execution_count": null,
   "id": "ecbb5b60",
   "metadata": {
    "execution": {
     "iopub.execute_input": "2025-05-18T16:26:22.829810Z",
     "iopub.status.busy": "2025-05-18T16:26:22.829401Z",
     "iopub.status.idle": "2025-05-18T16:26:24.643633Z",
     "shell.execute_reply": "2025-05-18T16:26:24.642446Z",
     "shell.execute_reply.started": "2025-05-18T16:26:22.829782Z"
    },
    "papermill": {
     "duration": null,
     "end_time": null,
     "exception": null,
     "start_time": null,
     "status": "pending"
    },
    "tags": []
   },
   "outputs": [],
   "source": [
    "from wordcloud import WordCloud\n",
    "import matplotlib.pyplot as plt\n",
    "\n",
    "# Ensure inline plots (sometimes needed in fresh notebooks)\n",
    "%matplotlib inline\n",
    "\n",
    "# Combine abstracts (limit text to avoid long processing time)\n",
    "text = \" \".join(vaccine_papers['abstract'].dropna())[:50000]\n",
    "\n",
    "# Generate Word Cloud\n",
    "wordcloud = WordCloud(width=1200, height=600, background_color='white', max_words=100).generate(text)\n",
    "\n",
    "# Display it\n",
    "plt.figure(figsize=(15, 7))\n",
    "plt.imshow(wordcloud, interpolation='bilinear')\n",
    "plt.axis('off')\n",
    "plt.title(\"Top Terms in Vaccine-Related COVID-19 Research\", fontsize=18)\n",
    "plt.show()"
   ]
  },
  {
   "cell_type": "markdown",
   "id": "31fa2102",
   "metadata": {
    "papermill": {
     "duration": null,
     "end_time": null,
     "exception": null,
     "start_time": null,
     "status": "pending"
    },
    "tags": []
   },
   "source": [
    "> #  COVID-19 araştırma makaleleri içinde tedaviyle ilgili anahtar kelimelerin geçtiği özetleri analiz edip görselleştirme"
   ]
  },
  {
   "cell_type": "code",
   "execution_count": null,
   "id": "aabec6da",
   "metadata": {
    "execution": {
     "iopub.execute_input": "2025-05-18T16:28:24.301401Z",
     "iopub.status.busy": "2025-05-18T16:28:24.300661Z",
     "iopub.status.idle": "2025-05-18T16:28:24.577787Z",
     "shell.execute_reply": "2025-05-18T16:28:24.576789Z",
     "shell.execute_reply.started": "2025-05-18T16:28:24.301374Z"
    },
    "papermill": {
     "duration": null,
     "end_time": null,
     "exception": null,
     "start_time": null,
     "status": "pending"
    },
    "tags": []
   },
   "outputs": [],
   "source": [
    "# Define treatment-related keywords\n",
    "keywords = ['treatment', 'drug', 'antiviral', 'remdesivir', 'hydroxychloroquine', 'dexamethasone', 'efficacy']\n",
    "\n",
    "# Filter papers mentioning these keywords\n",
    "treatment_papers = df[df['abstract'].fillna('').str.contains('|'.join(keywords), case=False)]\n",
    "\n",
    "# Count how many abstracts mention each keyword\n",
    "keyword_counts = {k: treatment_papers['abstract'].str.contains(k, case=False).sum() for k in keywords}\n",
    "\n",
    "# Plot bar chart\n",
    "plt.figure(figsize=(10, 6))\n",
    "plt.bar(keyword_counts.keys(), keyword_counts.values())\n",
    "plt.title(\"Mentions of Treatment-Related Terms in Abstracts\")\n",
    "plt.ylabel(\"Number of Papers\")\n",
    "plt.xlabel(\"Keyword\")\n",
    "plt.xticks(rotation=45)\n",
    "plt.tight_layout()\n",
    "plt.show()"
   ]
  },
  {
   "cell_type": "markdown",
   "id": "03379ff7",
   "metadata": {
    "papermill": {
     "duration": null,
     "end_time": null,
     "exception": null,
     "start_time": null,
     "status": "pending"
    },
    "tags": []
   },
   "source": [
    "# Bir makale özeti (abstract) verildiğinde, bu özet aşı ile ilgili mi değil mi? sorusuna yanıt veren bir model eğitmi\n"
   ]
  },
  {
   "cell_type": "markdown",
   "id": "8490f581",
   "metadata": {
    "papermill": {
     "duration": null,
     "end_time": null,
     "exception": null,
     "start_time": null,
     "status": "pending"
    },
    "tags": []
   },
   "source": [
    "**Etiket Oluşturma (Labeling)**"
   ]
  },
  {
   "cell_type": "code",
   "execution_count": null,
   "id": "5fe8e7d9",
   "metadata": {
    "execution": {
     "iopub.execute_input": "2025-05-18T16:49:29.925733Z",
     "iopub.status.busy": "2025-05-18T16:49:29.925342Z",
     "iopub.status.idle": "2025-05-18T16:49:29.978377Z",
     "shell.execute_reply": "2025-05-18T16:49:29.977399Z",
     "shell.execute_reply.started": "2025-05-18T16:49:29.925689Z"
    },
    "papermill": {
     "duration": null,
     "end_time": null,
     "exception": null,
     "start_time": null,
     "status": "pending"
    },
    "tags": []
   },
   "outputs": [],
   "source": [
    "# Aşı ile ilgili anahtar kelimeler\n",
    "vaccine_keywords = ['vaccine', 'vaccination', 'mrna', 'pfizer', 'moderna', 'booster', 'immunization']\n",
    "\n",
    "# NaN değerleri boş string yap, sonra kelimeleri ara\n",
    "df['label_vaccine'] = df['abstract'].fillna('').str.contains('|'.join(vaccine_keywords), case=False).astype(int)\n",
    "\n",
    "# Kontrol: Kaç tane aşı ile ilgili makale var?\n",
    "df['label_vaccine'].value_counts()\n"
   ]
  },
  {
   "cell_type": "code",
   "execution_count": null,
   "id": "552e0226",
   "metadata": {
    "execution": {
     "iopub.execute_input": "2025-05-18T16:51:33.222926Z",
     "iopub.status.busy": "2025-05-18T16:51:33.222586Z",
     "iopub.status.idle": "2025-05-18T16:51:33.229392Z",
     "shell.execute_reply": "2025-05-18T16:51:33.228240Z",
     "shell.execute_reply.started": "2025-05-18T16:51:33.222902Z"
    },
    "papermill": {
     "duration": null,
     "end_time": null,
     "exception": null,
     "start_time": null,
     "status": "pending"
    },
    "tags": []
   },
   "outputs": [],
   "source": [
    "# Sadece abstract ve label olanları alalım\n",
    "df_binary = df[['abstract', 'label_vaccine']].dropna()\n"
   ]
  },
  {
   "cell_type": "markdown",
   "id": "30317403",
   "metadata": {
    "papermill": {
     "duration": null,
     "end_time": null,
     "exception": null,
     "start_time": null,
     "status": "pending"
    },
    "tags": []
   },
   "source": [
    "**Metni Vektörleştirme**"
   ]
  },
  {
   "cell_type": "code",
   "execution_count": null,
   "id": "a14dbabf",
   "metadata": {
    "execution": {
     "iopub.execute_input": "2025-05-18T16:51:44.198969Z",
     "iopub.status.busy": "2025-05-18T16:51:44.198616Z",
     "iopub.status.idle": "2025-05-18T16:51:45.159041Z",
     "shell.execute_reply": "2025-05-18T16:51:45.158060Z",
     "shell.execute_reply.started": "2025-05-18T16:51:44.198942Z"
    },
    "papermill": {
     "duration": null,
     "end_time": null,
     "exception": null,
     "start_time": null,
     "status": "pending"
    },
    "tags": []
   },
   "outputs": [],
   "source": [
    "from sklearn.feature_extraction.text import TfidfVectorizer\n",
    "\n",
    "vectorizer = TfidfVectorizer(max_features=5000, stop_words='english')\n",
    "X = vectorizer.fit_transform(df_binary['abstract'])\n",
    "y = df_binary['label_vaccine']\n"
   ]
  },
  {
   "cell_type": "markdown",
   "id": "1276fd3a",
   "metadata": {
    "papermill": {
     "duration": null,
     "end_time": null,
     "exception": null,
     "start_time": null,
     "status": "pending"
    },
    "tags": []
   },
   "source": [
    "**Modeli train ve test parçalarına ayırma**"
   ]
  },
  {
   "cell_type": "code",
   "execution_count": null,
   "id": "0eba1fba",
   "metadata": {
    "execution": {
     "iopub.execute_input": "2025-05-18T16:52:14.670962Z",
     "iopub.status.busy": "2025-05-18T16:52:14.670494Z",
     "iopub.status.idle": "2025-05-18T16:52:14.821452Z",
     "shell.execute_reply": "2025-05-18T16:52:14.820485Z",
     "shell.execute_reply.started": "2025-05-18T16:52:14.670936Z"
    },
    "papermill": {
     "duration": null,
     "end_time": null,
     "exception": null,
     "start_time": null,
     "status": "pending"
    },
    "tags": []
   },
   "outputs": [],
   "source": [
    "from sklearn.model_selection import train_test_split\n",
    "\n",
    "X_train, X_test, y_train, y_test = train_test_split(X, y, test_size=0.2, random_state=42, stratify=y)\n"
   ]
  },
  {
   "cell_type": "markdown",
   "id": "246baced",
   "metadata": {
    "papermill": {
     "duration": null,
     "end_time": null,
     "exception": null,
     "start_time": null,
     "status": "pending"
    },
    "tags": []
   },
   "source": [
    "**Model Eğit (Logistic Regression)**"
   ]
  },
  {
   "cell_type": "code",
   "execution_count": null,
   "id": "b9a48201",
   "metadata": {
    "execution": {
     "iopub.execute_input": "2025-05-18T16:52:27.930710Z",
     "iopub.status.busy": "2025-05-18T16:52:27.930357Z",
     "iopub.status.idle": "2025-05-18T16:52:28.182222Z",
     "shell.execute_reply": "2025-05-18T16:52:28.181370Z",
     "shell.execute_reply.started": "2025-05-18T16:52:27.930687Z"
    },
    "papermill": {
     "duration": null,
     "end_time": null,
     "exception": null,
     "start_time": null,
     "status": "pending"
    },
    "tags": []
   },
   "outputs": [],
   "source": [
    "from sklearn.linear_model import LogisticRegression\n",
    "from sklearn.metrics import classification_report\n",
    "\n",
    "model = LogisticRegression(max_iter=1000)\n",
    "model.fit(X_train, y_train)\n"
   ]
  },
  {
   "cell_type": "markdown",
   "id": "67ad21d0",
   "metadata": {
    "papermill": {
     "duration": null,
     "end_time": null,
     "exception": null,
     "start_time": null,
     "status": "pending"
    },
    "tags": []
   },
   "source": [
    "**Modeli Değerlendir**"
   ]
  },
  {
   "cell_type": "code",
   "execution_count": null,
   "id": "fe213d50",
   "metadata": {
    "execution": {
     "iopub.execute_input": "2025-05-18T16:52:55.774320Z",
     "iopub.status.busy": "2025-05-18T16:52:55.773790Z",
     "iopub.status.idle": "2025-05-18T16:52:55.794655Z",
     "shell.execute_reply": "2025-05-18T16:52:55.793492Z",
     "shell.execute_reply.started": "2025-05-18T16:52:55.774283Z"
    },
    "papermill": {
     "duration": null,
     "end_time": null,
     "exception": null,
     "start_time": null,
     "status": "pending"
    },
    "tags": []
   },
   "outputs": [],
   "source": [
    "y_pred = model.predict(X_test)\n",
    "\n",
    "print(classification_report(y_test, y_pred))\n"
   ]
  },
  {
   "cell_type": "markdown",
   "id": "ffe9f4db",
   "metadata": {
    "papermill": {
     "duration": null,
     "end_time": null,
     "exception": null,
     "start_time": null,
     "status": "pending"
    },
    "tags": []
   },
   "source": [
    "# RandomForest ile modeli eğitme "
   ]
  },
  {
   "cell_type": "code",
   "execution_count": null,
   "id": "b905c4ab",
   "metadata": {
    "execution": {
     "iopub.execute_input": "2025-05-18T16:55:23.314162Z",
     "iopub.status.busy": "2025-05-18T16:55:23.313569Z",
     "iopub.status.idle": "2025-05-18T16:55:24.195426Z",
     "shell.execute_reply": "2025-05-18T16:55:24.194196Z",
     "shell.execute_reply.started": "2025-05-18T16:55:23.314127Z"
    },
    "papermill": {
     "duration": null,
     "end_time": null,
     "exception": null,
     "start_time": null,
     "status": "pending"
    },
    "tags": []
   },
   "outputs": [],
   "source": [
    "from sklearn.ensemble import RandomForestClassifier\n",
    "from sklearn.metrics import classification_report, confusion_matrix\n",
    "import matplotlib.pyplot as plt\n",
    "import seaborn as sns\n"
   ]
  },
  {
   "cell_type": "code",
   "execution_count": null,
   "id": "7058df47",
   "metadata": {
    "execution": {
     "iopub.execute_input": "2025-05-18T16:55:33.997993Z",
     "iopub.status.busy": "2025-05-18T16:55:33.997456Z",
     "iopub.status.idle": "2025-05-18T16:55:34.209735Z",
     "shell.execute_reply": "2025-05-18T16:55:34.208703Z",
     "shell.execute_reply.started": "2025-05-18T16:55:33.997955Z"
    },
    "papermill": {
     "duration": null,
     "end_time": null,
     "exception": null,
     "start_time": null,
     "status": "pending"
    },
    "tags": []
   },
   "outputs": [],
   "source": [
    "rf_model = RandomForestClassifier(n_estimators=100, random_state=42)\n",
    "rf_model.fit(X_train, y_train)\n"
   ]
  },
  {
   "cell_type": "code",
   "execution_count": null,
   "id": "4e7b4ade",
   "metadata": {
    "execution": {
     "iopub.execute_input": "2025-05-18T16:55:47.388827Z",
     "iopub.status.busy": "2025-05-18T16:55:47.387578Z",
     "iopub.status.idle": "2025-05-18T16:55:47.410763Z",
     "shell.execute_reply": "2025-05-18T16:55:47.409638Z",
     "shell.execute_reply.started": "2025-05-18T16:55:47.388784Z"
    },
    "papermill": {
     "duration": null,
     "end_time": null,
     "exception": null,
     "start_time": null,
     "status": "pending"
    },
    "tags": []
   },
   "outputs": [],
   "source": [
    "y_pred_rf = rf_model.predict(X_test)\n",
    "\n",
    "print(classification_report(y_test, y_pred_rf))\n"
   ]
  },
  {
   "cell_type": "code",
   "execution_count": null,
   "id": "4924c4ed",
   "metadata": {
    "execution": {
     "iopub.execute_input": "2025-05-18T16:56:36.227154Z",
     "iopub.status.busy": "2025-05-18T16:56:36.226832Z",
     "iopub.status.idle": "2025-05-18T16:56:36.572556Z",
     "shell.execute_reply": "2025-05-18T16:56:36.571396Z",
     "shell.execute_reply.started": "2025-05-18T16:56:36.227126Z"
    },
    "papermill": {
     "duration": null,
     "end_time": null,
     "exception": null,
     "start_time": null,
     "status": "pending"
    },
    "tags": []
   },
   "outputs": [],
   "source": [
    "import numpy as np\n",
    "\n",
    "feature_importances = rf_model.feature_importances_\n",
    "feature_names = vectorizer.get_feature_names_out()\n",
    "\n",
    "# En önemli 20 kelime\n",
    "top_n = 20\n",
    "indices = np.argsort(feature_importances)[-top_n:]\n",
    "top_features = feature_names[indices]\n",
    "top_importances = feature_importances[indices]\n",
    "\n",
    "plt.figure(figsize=(10,6))\n",
    "plt.barh(top_features, top_importances)\n",
    "plt.xlabel(\"Importance\")\n",
    "plt.title(\"Top Keywords Determining Vaccine-Related Abstracts\")\n",
    "plt.tight_layout()\n",
    "plt.show()\n"
   ]
  }
 ],
 "metadata": {
  "kaggle": {
   "accelerator": "none",
   "dataSources": [
    {
     "datasetId": 551982,
     "sourceId": 3756201,
     "sourceType": "datasetVersion"
    }
   ],
   "dockerImageVersionId": 31040,
   "isGpuEnabled": false,
   "isInternetEnabled": true,
   "language": "python",
   "sourceType": "notebook"
  },
  "kernelspec": {
   "display_name": "Python 3",
   "language": "python",
   "name": "python3"
  },
  "language_info": {
   "codemirror_mode": {
    "name": "ipython",
    "version": 3
   },
   "file_extension": ".py",
   "mimetype": "text/x-python",
   "name": "python",
   "nbconvert_exporter": "python",
   "pygments_lexer": "ipython3",
   "version": "3.11.11"
  },
  "papermill": {
   "default_parameters": {},
   "duration": 7.315304,
   "end_time": "2025-05-18T17:03:48.377093",
   "environment_variables": {},
   "exception": true,
   "input_path": "__notebook__.ipynb",
   "output_path": "__notebook__.ipynb",
   "parameters": {},
   "start_time": "2025-05-18T17:03:41.061789",
   "version": "2.6.0"
  }
 },
 "nbformat": 4,
 "nbformat_minor": 5
}
