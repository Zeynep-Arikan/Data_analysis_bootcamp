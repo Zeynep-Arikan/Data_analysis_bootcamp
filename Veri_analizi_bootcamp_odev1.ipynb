{
  "nbformat": 4,
  "nbformat_minor": 0,
  "metadata": {
    "colab": {
      "provenance": [],
      "authorship_tag": "ABX9TyMSyOlEk+RmjozTc29hJO5E",
      "include_colab_link": true
    },
    "kernelspec": {
      "name": "python3",
      "display_name": "Python 3"
    },
    "language_info": {
      "name": "python"
    }
  },
  "cells": [
    {
      "cell_type": "markdown",
      "metadata": {
        "id": "view-in-github",
        "colab_type": "text"
      },
      "source": [
        "<a href=\"https://colab.research.google.com/github/Zeynep-Arikan/Data_analysis_bootcamp/blob/main/Veri_analizi_bootcamp_odev1.ipynb\" target=\"_parent\"><img src=\"https://colab.research.google.com/assets/colab-badge.svg\" alt=\"Open In Colab\"/></a>"
      ]
    },
    {
      "cell_type": "code",
      "source": [
        "# girilen sayının pozitif, negatif veya sıfır olduğunu yazan koşul\n",
        "sayı_str = input(\"Bir sayı giriniz: \")\n",
        "sayı = int(sayı_str)\n",
        "if sayı > 0:\n",
        "    print(\"Pozitif\")\n",
        "elif sayı < 0:\n",
        "    print(\"Negatif\")\n",
        "else:\n",
        "    print(\"Sıfır\")"
      ],
      "metadata": {
        "colab": {
          "base_uri": "https://localhost:8080/"
        },
        "id": "98DsEAwPJWB4",
        "outputId": "7e2eb68f-cc3d-4cb6-ab80-29ad92a01bec"
      },
      "execution_count": 4,
      "outputs": [
        {
          "output_type": "stream",
          "name": "stdout",
          "text": [
            "Bir sayı giriniz: -4\n",
            "Negatif\n"
          ]
        }
      ]
    },
    {
      "cell_type": "code",
      "source": [
        "# girilen sayının tek mi çift mi olduğunu yazan koşul\n",
        "sayı_str = input(\"Bir sayı giriniz: \")\n",
        "sayı = int(sayı_str)\n",
        "if sayı % 2 == 0:\n",
        "    print(\"Çift\")\n",
        "else:\n",
        "    print(\"Tek\")"
      ],
      "metadata": {
        "colab": {
          "base_uri": "https://localhost:8080/"
        },
        "id": "m8lZrXAjJWEo",
        "outputId": "666081f5-5228-49bf-8fb5-ff84c03695ee"
      },
      "execution_count": 5,
      "outputs": [
        {
          "output_type": "stream",
          "name": "stdout",
          "text": [
            "Bir sayı giriniz: 5\n",
            "Tek\n"
          ]
        }
      ]
    },
    {
      "cell_type": "code",
      "source": [
        "# Girilen nota göre harf aralığını yazan koşul (80-100 A, 60-80 B vs.)\n",
        "not_str = input(\"Not:\")\n",
        "not_int = int(not_str)\n",
        "if not_int >= 80:\n",
        "    print(\"A\")\n",
        "elif not_int >= 60:\n",
        "    print(\"B\")\n",
        "elif not_int >= 40:\n",
        "    print(\"C\")"
      ],
      "metadata": {
        "colab": {
          "base_uri": "https://localhost:8080/"
        },
        "id": "kYNTTiFtJWIG",
        "outputId": "70d66d44-4035-46c5-b587-bb3c97af6e0c"
      },
      "execution_count": 6,
      "outputs": [
        {
          "output_type": "stream",
          "name": "stdout",
          "text": [
            "Not:73\n",
            "B\n"
          ]
        }
      ]
    },
    {
      "cell_type": "code",
      "source": [
        "# Girilen ismin karakter sayısı 5den büyükse \"uzun bir isminiz var\" değilse ismini yazsın\n",
        "isim = input(\"İsim:\")\n",
        "if len(isim) > 5:\n",
        "    print(\"uzun bir isminiz var\")\n",
        "else:\n",
        "    print(isim)\n"
      ],
      "metadata": {
        "colab": {
          "base_uri": "https://localhost:8080/"
        },
        "id": "XbCxuRufLTnp",
        "outputId": "5182563b-7b7b-4721-a4eb-8edf622cd74c"
      },
      "execution_count": 7,
      "outputs": [
        {
          "output_type": "stream",
          "name": "stdout",
          "text": [
            "İsim:zeynep\n",
            "uzun bir isminiz var\n"
          ]
        }
      ]
    },
    {
      "cell_type": "code",
      "source": [
        "# girilen sayının asal olup olmadığını bulan kod dizisi. (for ve while)\n",
        "sayı_str = input(\"Bir sayı giriniz: \")\n",
        "sayı = int(sayı_str)\n",
        "asal = True\n",
        "for i in range(2, sayı):\n",
        "    if sayı % i == 0:\n",
        "        asal = False\n",
        "        break\n",
        "if asal:\n",
        "    print(\"Asal\")\n",
        "else:\n",
        "    print(\"Asal değil\")"
      ],
      "metadata": {
        "colab": {
          "base_uri": "https://localhost:8080/"
        },
        "id": "T0ksHoodLTkF",
        "outputId": "6d1f11a8-1f0d-4407-8b42-62ae715ce661"
      },
      "execution_count": 11,
      "outputs": [
        {
          "output_type": "stream",
          "name": "stdout",
          "text": [
            "Bir sayı giriniz: 19\n",
            "Asal\n"
          ]
        }
      ]
    },
    {
      "cell_type": "code",
      "source": [
        "# notlar=[45,85,75,50] içinde 75 değerinin indisini yazdıran döngü\n",
        "notlar = [45,85,75,50]\n",
        "for i in range(len(notlar)):\n",
        "    if notlar[i] == 75:\n",
        "        print(i)"
      ],
      "metadata": {
        "colab": {
          "base_uri": "https://localhost:8080/"
        },
        "id": "DWM6IzUNLThH",
        "outputId": "8d6a3be9-fbf6-43f3-9575-001d476ee915"
      },
      "execution_count": 13,
      "outputs": [
        {
          "output_type": "stream",
          "name": "stdout",
          "text": [
            "2\n"
          ]
        }
      ]
    },
    {
      "cell_type": "code",
      "source": [
        "# girilen sayının faktöriyelini alalım. (for ve while)\n",
        "sayı_str = input(\"Bir sayı giriniz: \")\n",
        "sayı = int(sayı_str)\n",
        "faktoriyel = 1\n",
        "for i in range(1, sayı+1):\n",
        "    faktoriyel *= i\n",
        "print(faktoriyel)\n"
      ],
      "metadata": {
        "colab": {
          "base_uri": "https://localhost:8080/"
        },
        "id": "kyJkOpZ0LTR5",
        "outputId": "16d6a18e-ded3-4fd1-abbd-0950c6b0e1ff"
      },
      "execution_count": 14,
      "outputs": [
        {
          "output_type": "stream",
          "name": "stdout",
          "text": [
            "Bir sayı giriniz: 3\n",
            "6\n"
          ]
        }
      ]
    },
    {
      "cell_type": "code",
      "source": [
        "# Kullanıcıdan pozitif bir sayı bekleyen, pozitifi de gördüğü an bastıran, negatif sayı girildikçe bir daha soran yapı kuralım. (for döngüsü ile)\n",
        "while True:\n",
        "    n = int(input(\"Pozitif bir sayı giriniz: \"))\n",
        "    if n > 0:\n",
        "        print(n)\n",
        "        break\n",
        "    print(\"Negatif girdiniz, tekrar deneyin.\")\n"
      ],
      "metadata": {
        "colab": {
          "base_uri": "https://localhost:8080/"
        },
        "id": "33NJrDaULTOb",
        "outputId": "5364d231-98a2-425f-ac57-1dfe5627c7c1"
      },
      "execution_count": 22,
      "outputs": [
        {
          "output_type": "stream",
          "name": "stdout",
          "text": [
            "Pozitif bir sayı giriniz: -8\n",
            "Negatif girdiniz, tekrar deneyin.\n",
            "Pozitif bir sayı giriniz: -4\n",
            "Negatif girdiniz, tekrar deneyin.\n",
            "Pozitif bir sayı giriniz: -4\n",
            "Negatif girdiniz, tekrar deneyin.\n",
            "Pozitif bir sayı giriniz: -2\n",
            "Negatif girdiniz, tekrar deneyin.\n",
            "Pozitif bir sayı giriniz: 3\n",
            "3\n"
          ]
        }
      ]
    },
    {
      "cell_type": "code",
      "source": [
        "# fonksiyon ile girilen sayının asal olup olmadığını bulan kod dizisi. (for ve while)\n",
        "def asal(sayı):\n",
        "    asal = True\n",
        "    for i in range(2, sayı):\n",
        "        if sayı % i == 0:\n",
        "            asal = False\n",
        "            break\n",
        "    if asal:\n",
        "        print(\"Asal\")\n",
        "\n",
        "    else:\n",
        "        print(\"Asal değil\")\n",
        "asal(46)\n"
      ],
      "metadata": {
        "colab": {
          "base_uri": "https://localhost:8080/"
        },
        "id": "hcqKqWS0LTK8",
        "outputId": "d464ca17-4c5b-4478-b381-95e51305110c"
      },
      "execution_count": 26,
      "outputs": [
        {
          "output_type": "stream",
          "name": "stdout",
          "text": [
            "Asal değil\n"
          ]
        }
      ]
    },
    {
      "cell_type": "code",
      "source": [
        "# fonksiyon ile girilen sayının faktöriyelini alalım. (for ve while)\n",
        "def faktoriyel():\n",
        "    n = int(input(\"Pozitif bir sayı giriniz: \"))\n",
        "    if n < 0:\n",
        "        print(\"Negatif sayıların faktöriyeli tanımsızdır.\")\n",
        "        return\n",
        "    sonuc = 1\n",
        "    for i in range(1, n + 1):\n",
        "        sonuc *= i\n",
        "    print(f\"{n}! = {sonuc}\")\n",
        "\n",
        "faktoriyel()"
      ],
      "metadata": {
        "colab": {
          "base_uri": "https://localhost:8080/"
        },
        "id": "yTVgbOyhLTIm",
        "outputId": "ccf85ab7-b52e-4de4-a747-c8e0d5ea466e"
      },
      "execution_count": 29,
      "outputs": [
        {
          "output_type": "stream",
          "name": "stdout",
          "text": [
            "Pozitif bir sayı giriniz: 5\n",
            "5! = 120\n"
          ]
        }
      ]
    }
  ]
}