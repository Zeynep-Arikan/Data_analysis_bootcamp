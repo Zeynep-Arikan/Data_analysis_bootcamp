{
 "cells": [
  {
   "cell_type": "code",
   "execution_count": 1,
   "id": "adc404af",
   "metadata": {
    "_cell_guid": "b1076dfc-b9ad-4769-8c92-a6c4dae69d19",
    "_uuid": "8f2839f25d086af736a60e9eeb907d3b93b6e0e5",
    "execution": {
     "iopub.execute_input": "2025-05-11T18:47:19.081187Z",
     "iopub.status.busy": "2025-05-11T18:47:19.080805Z",
     "iopub.status.idle": "2025-05-11T18:47:21.223415Z",
     "shell.execute_reply": "2025-05-11T18:47:21.222260Z"
    },
    "papermill": {
     "duration": 2.150534,
     "end_time": "2025-05-11T18:47:21.225334",
     "exception": false,
     "start_time": "2025-05-11T18:47:19.074800",
     "status": "completed"
    },
    "tags": []
   },
   "outputs": [
    {
     "name": "stdout",
     "output_type": "stream",
     "text": [
      "/kaggle/input/titanic/train.csv\n",
      "/kaggle/input/titanic/test.csv\n",
      "/kaggle/input/titanic/gender_submission.csv\n"
     ]
    }
   ],
   "source": [
    "# This Python 3 environment comes with many helpful analytics libraries installed\n",
    "# It is defined by the kaggle/python Docker image: https://github.com/kaggle/docker-python\n",
    "# For example, here's several helpful packages to load\n",
    "\n",
    "import numpy as np # linear algebra\n",
    "import pandas as pd # data processing, CSV file I/O (e.g. pd.read_csv)\n",
    "\n",
    "# Input data files are available in the read-only \"../input/\" directory\n",
    "# For example, running this (by clicking run or pressing Shift+Enter) will list all files under the input directory\n",
    "\n",
    "import os\n",
    "for dirname, _, filenames in os.walk('/kaggle/input'):\n",
    "    for filename in filenames:\n",
    "        print(os.path.join(dirname, filename))\n",
    "\n",
    "# You can write up to 20GB to the current directory (/kaggle/working/) that gets preserved as output when you create a version using \"Save & Run All\" \n",
    "# You can also write temporary files to /kaggle/temp/, but they won't be saved outside of the current session"
   ]
  },
  {
   "cell_type": "code",
   "execution_count": 2,
   "id": "b7a7da7d",
   "metadata": {
    "execution": {
     "iopub.execute_input": "2025-05-11T18:47:21.234905Z",
     "iopub.status.busy": "2025-05-11T18:47:21.234392Z",
     "iopub.status.idle": "2025-05-11T18:47:21.285980Z",
     "shell.execute_reply": "2025-05-11T18:47:21.284878Z"
    },
    "papermill": {
     "duration": 0.058071,
     "end_time": "2025-05-11T18:47:21.287562",
     "exception": false,
     "start_time": "2025-05-11T18:47:21.229491",
     "status": "completed"
    },
    "tags": []
   },
   "outputs": [
    {
     "data": {
      "text/html": [
       "<div>\n",
       "<style scoped>\n",
       "    .dataframe tbody tr th:only-of-type {\n",
       "        vertical-align: middle;\n",
       "    }\n",
       "\n",
       "    .dataframe tbody tr th {\n",
       "        vertical-align: top;\n",
       "    }\n",
       "\n",
       "    .dataframe thead th {\n",
       "        text-align: right;\n",
       "    }\n",
       "</style>\n",
       "<table border=\"1\" class=\"dataframe\">\n",
       "  <thead>\n",
       "    <tr style=\"text-align: right;\">\n",
       "      <th></th>\n",
       "      <th>PassengerId</th>\n",
       "      <th>Survived</th>\n",
       "      <th>Pclass</th>\n",
       "      <th>Name</th>\n",
       "      <th>Sex</th>\n",
       "      <th>Age</th>\n",
       "      <th>SibSp</th>\n",
       "      <th>Parch</th>\n",
       "      <th>Ticket</th>\n",
       "      <th>Fare</th>\n",
       "      <th>Cabin</th>\n",
       "      <th>Embarked</th>\n",
       "    </tr>\n",
       "  </thead>\n",
       "  <tbody>\n",
       "    <tr>\n",
       "      <th>0</th>\n",
       "      <td>1</td>\n",
       "      <td>0</td>\n",
       "      <td>3</td>\n",
       "      <td>Braund, Mr. Owen Harris</td>\n",
       "      <td>male</td>\n",
       "      <td>22.0</td>\n",
       "      <td>1</td>\n",
       "      <td>0</td>\n",
       "      <td>A/5 21171</td>\n",
       "      <td>7.2500</td>\n",
       "      <td>NaN</td>\n",
       "      <td>S</td>\n",
       "    </tr>\n",
       "    <tr>\n",
       "      <th>1</th>\n",
       "      <td>2</td>\n",
       "      <td>1</td>\n",
       "      <td>1</td>\n",
       "      <td>Cumings, Mrs. John Bradley (Florence Briggs Th...</td>\n",
       "      <td>female</td>\n",
       "      <td>38.0</td>\n",
       "      <td>1</td>\n",
       "      <td>0</td>\n",
       "      <td>PC 17599</td>\n",
       "      <td>71.2833</td>\n",
       "      <td>C85</td>\n",
       "      <td>C</td>\n",
       "    </tr>\n",
       "    <tr>\n",
       "      <th>2</th>\n",
       "      <td>3</td>\n",
       "      <td>1</td>\n",
       "      <td>3</td>\n",
       "      <td>Heikkinen, Miss. Laina</td>\n",
       "      <td>female</td>\n",
       "      <td>26.0</td>\n",
       "      <td>0</td>\n",
       "      <td>0</td>\n",
       "      <td>STON/O2. 3101282</td>\n",
       "      <td>7.9250</td>\n",
       "      <td>NaN</td>\n",
       "      <td>S</td>\n",
       "    </tr>\n",
       "    <tr>\n",
       "      <th>3</th>\n",
       "      <td>4</td>\n",
       "      <td>1</td>\n",
       "      <td>1</td>\n",
       "      <td>Futrelle, Mrs. Jacques Heath (Lily May Peel)</td>\n",
       "      <td>female</td>\n",
       "      <td>35.0</td>\n",
       "      <td>1</td>\n",
       "      <td>0</td>\n",
       "      <td>113803</td>\n",
       "      <td>53.1000</td>\n",
       "      <td>C123</td>\n",
       "      <td>S</td>\n",
       "    </tr>\n",
       "    <tr>\n",
       "      <th>4</th>\n",
       "      <td>5</td>\n",
       "      <td>0</td>\n",
       "      <td>3</td>\n",
       "      <td>Allen, Mr. William Henry</td>\n",
       "      <td>male</td>\n",
       "      <td>35.0</td>\n",
       "      <td>0</td>\n",
       "      <td>0</td>\n",
       "      <td>373450</td>\n",
       "      <td>8.0500</td>\n",
       "      <td>NaN</td>\n",
       "      <td>S</td>\n",
       "    </tr>\n",
       "  </tbody>\n",
       "</table>\n",
       "</div>"
      ],
      "text/plain": [
       "   PassengerId  Survived  Pclass  \\\n",
       "0            1         0       3   \n",
       "1            2         1       1   \n",
       "2            3         1       3   \n",
       "3            4         1       1   \n",
       "4            5         0       3   \n",
       "\n",
       "                                                Name     Sex   Age  SibSp  \\\n",
       "0                            Braund, Mr. Owen Harris    male  22.0      1   \n",
       "1  Cumings, Mrs. John Bradley (Florence Briggs Th...  female  38.0      1   \n",
       "2                             Heikkinen, Miss. Laina  female  26.0      0   \n",
       "3       Futrelle, Mrs. Jacques Heath (Lily May Peel)  female  35.0      1   \n",
       "4                           Allen, Mr. William Henry    male  35.0      0   \n",
       "\n",
       "   Parch            Ticket     Fare Cabin Embarked  \n",
       "0      0         A/5 21171   7.2500   NaN        S  \n",
       "1      0          PC 17599  71.2833   C85        C  \n",
       "2      0  STON/O2. 3101282   7.9250   NaN        S  \n",
       "3      0            113803  53.1000  C123        S  \n",
       "4      0            373450   8.0500   NaN        S  "
      ]
     },
     "execution_count": 2,
     "metadata": {},
     "output_type": "execute_result"
    }
   ],
   "source": [
    "train_data = pd.read_csv(\"/kaggle/input/titanic/train.csv\")\n",
    "train_data.head()"
   ]
  },
  {
   "cell_type": "code",
   "execution_count": 3,
   "id": "c85b3332",
   "metadata": {
    "execution": {
     "iopub.execute_input": "2025-05-11T18:47:21.297269Z",
     "iopub.status.busy": "2025-05-11T18:47:21.296919Z",
     "iopub.status.idle": "2025-05-11T18:47:21.318912Z",
     "shell.execute_reply": "2025-05-11T18:47:21.317791Z"
    },
    "papermill": {
     "duration": 0.029036,
     "end_time": "2025-05-11T18:47:21.320855",
     "exception": false,
     "start_time": "2025-05-11T18:47:21.291819",
     "status": "completed"
    },
    "tags": []
   },
   "outputs": [
    {
     "data": {
      "text/html": [
       "<div>\n",
       "<style scoped>\n",
       "    .dataframe tbody tr th:only-of-type {\n",
       "        vertical-align: middle;\n",
       "    }\n",
       "\n",
       "    .dataframe tbody tr th {\n",
       "        vertical-align: top;\n",
       "    }\n",
       "\n",
       "    .dataframe thead th {\n",
       "        text-align: right;\n",
       "    }\n",
       "</style>\n",
       "<table border=\"1\" class=\"dataframe\">\n",
       "  <thead>\n",
       "    <tr style=\"text-align: right;\">\n",
       "      <th></th>\n",
       "      <th>PassengerId</th>\n",
       "      <th>Pclass</th>\n",
       "      <th>Name</th>\n",
       "      <th>Sex</th>\n",
       "      <th>Age</th>\n",
       "      <th>SibSp</th>\n",
       "      <th>Parch</th>\n",
       "      <th>Ticket</th>\n",
       "      <th>Fare</th>\n",
       "      <th>Cabin</th>\n",
       "      <th>Embarked</th>\n",
       "    </tr>\n",
       "  </thead>\n",
       "  <tbody>\n",
       "    <tr>\n",
       "      <th>0</th>\n",
       "      <td>892</td>\n",
       "      <td>3</td>\n",
       "      <td>Kelly, Mr. James</td>\n",
       "      <td>male</td>\n",
       "      <td>34.5</td>\n",
       "      <td>0</td>\n",
       "      <td>0</td>\n",
       "      <td>330911</td>\n",
       "      <td>7.8292</td>\n",
       "      <td>NaN</td>\n",
       "      <td>Q</td>\n",
       "    </tr>\n",
       "    <tr>\n",
       "      <th>1</th>\n",
       "      <td>893</td>\n",
       "      <td>3</td>\n",
       "      <td>Wilkes, Mrs. James (Ellen Needs)</td>\n",
       "      <td>female</td>\n",
       "      <td>47.0</td>\n",
       "      <td>1</td>\n",
       "      <td>0</td>\n",
       "      <td>363272</td>\n",
       "      <td>7.0000</td>\n",
       "      <td>NaN</td>\n",
       "      <td>S</td>\n",
       "    </tr>\n",
       "    <tr>\n",
       "      <th>2</th>\n",
       "      <td>894</td>\n",
       "      <td>2</td>\n",
       "      <td>Myles, Mr. Thomas Francis</td>\n",
       "      <td>male</td>\n",
       "      <td>62.0</td>\n",
       "      <td>0</td>\n",
       "      <td>0</td>\n",
       "      <td>240276</td>\n",
       "      <td>9.6875</td>\n",
       "      <td>NaN</td>\n",
       "      <td>Q</td>\n",
       "    </tr>\n",
       "    <tr>\n",
       "      <th>3</th>\n",
       "      <td>895</td>\n",
       "      <td>3</td>\n",
       "      <td>Wirz, Mr. Albert</td>\n",
       "      <td>male</td>\n",
       "      <td>27.0</td>\n",
       "      <td>0</td>\n",
       "      <td>0</td>\n",
       "      <td>315154</td>\n",
       "      <td>8.6625</td>\n",
       "      <td>NaN</td>\n",
       "      <td>S</td>\n",
       "    </tr>\n",
       "    <tr>\n",
       "      <th>4</th>\n",
       "      <td>896</td>\n",
       "      <td>3</td>\n",
       "      <td>Hirvonen, Mrs. Alexander (Helga E Lindqvist)</td>\n",
       "      <td>female</td>\n",
       "      <td>22.0</td>\n",
       "      <td>1</td>\n",
       "      <td>1</td>\n",
       "      <td>3101298</td>\n",
       "      <td>12.2875</td>\n",
       "      <td>NaN</td>\n",
       "      <td>S</td>\n",
       "    </tr>\n",
       "  </tbody>\n",
       "</table>\n",
       "</div>"
      ],
      "text/plain": [
       "   PassengerId  Pclass                                          Name     Sex  \\\n",
       "0          892       3                              Kelly, Mr. James    male   \n",
       "1          893       3              Wilkes, Mrs. James (Ellen Needs)  female   \n",
       "2          894       2                     Myles, Mr. Thomas Francis    male   \n",
       "3          895       3                              Wirz, Mr. Albert    male   \n",
       "4          896       3  Hirvonen, Mrs. Alexander (Helga E Lindqvist)  female   \n",
       "\n",
       "    Age  SibSp  Parch   Ticket     Fare Cabin Embarked  \n",
       "0  34.5      0      0   330911   7.8292   NaN        Q  \n",
       "1  47.0      1      0   363272   7.0000   NaN        S  \n",
       "2  62.0      0      0   240276   9.6875   NaN        Q  \n",
       "3  27.0      0      0   315154   8.6625   NaN        S  \n",
       "4  22.0      1      1  3101298  12.2875   NaN        S  "
      ]
     },
     "execution_count": 3,
     "metadata": {},
     "output_type": "execute_result"
    }
   ],
   "source": [
    "test_data = pd.read_csv(\"/kaggle/input/titanic/test.csv\")\n",
    "test_data.head()"
   ]
  },
  {
   "cell_type": "code",
   "execution_count": 4,
   "id": "9511b0a9",
   "metadata": {
    "execution": {
     "iopub.execute_input": "2025-05-11T18:47:21.330952Z",
     "iopub.status.busy": "2025-05-11T18:47:21.330534Z",
     "iopub.status.idle": "2025-05-11T18:47:21.344957Z",
     "shell.execute_reply": "2025-05-11T18:47:21.343154Z"
    },
    "papermill": {
     "duration": 0.02177,
     "end_time": "2025-05-11T18:47:21.346816",
     "exception": false,
     "start_time": "2025-05-11T18:47:21.325046",
     "status": "completed"
    },
    "tags": []
   },
   "outputs": [
    {
     "name": "stdout",
     "output_type": "stream",
     "text": [
      "% of women who survived: 0.7420382165605095\n"
     ]
    }
   ],
   "source": [
    "women = train_data.loc[train_data.Sex == 'female'][\"Survived\"]\n",
    "rate_women = sum(women)/len(women)\n",
    "\n",
    "print(\"% of women who survived:\", rate_women)"
   ]
  },
  {
   "cell_type": "code",
   "execution_count": 5,
   "id": "4b2adc46",
   "metadata": {
    "execution": {
     "iopub.execute_input": "2025-05-11T18:47:21.357889Z",
     "iopub.status.busy": "2025-05-11T18:47:21.357526Z",
     "iopub.status.idle": "2025-05-11T18:47:21.365773Z",
     "shell.execute_reply": "2025-05-11T18:47:21.364604Z"
    },
    "papermill": {
     "duration": 0.014924,
     "end_time": "2025-05-11T18:47:21.367313",
     "exception": false,
     "start_time": "2025-05-11T18:47:21.352389",
     "status": "completed"
    },
    "tags": []
   },
   "outputs": [
    {
     "name": "stdout",
     "output_type": "stream",
     "text": [
      "% of men who survived: 0.18890814558058924\n"
     ]
    }
   ],
   "source": [
    "men = train_data.loc[train_data.Sex == 'male'][\"Survived\"]\n",
    "rate_men = sum(men)/len(men)\n",
    "\n",
    "print(\"% of men who survived:\", rate_men)"
   ]
  },
  {
   "cell_type": "code",
   "execution_count": 6,
   "id": "f54d4ce2",
   "metadata": {
    "execution": {
     "iopub.execute_input": "2025-05-11T18:47:21.376798Z",
     "iopub.status.busy": "2025-05-11T18:47:21.376452Z",
     "iopub.status.idle": "2025-05-11T18:47:24.011181Z",
     "shell.execute_reply": "2025-05-11T18:47:24.009976Z"
    },
    "papermill": {
     "duration": 2.6414,
     "end_time": "2025-05-11T18:47:24.012759",
     "exception": false,
     "start_time": "2025-05-11T18:47:21.371359",
     "status": "completed"
    },
    "tags": []
   },
   "outputs": [
    {
     "name": "stdout",
     "output_type": "stream",
     "text": [
      "Your submission was successfully saved!\n"
     ]
    }
   ],
   "source": [
    "from sklearn.ensemble import RandomForestClassifier\n",
    "\n",
    "y = train_data[\"Survived\"]\n",
    "\n",
    "features = [\"Pclass\", \"Sex\", \"SibSp\", \"Parch\"]\n",
    "X = pd.get_dummies(train_data[features])\n",
    "X_test = pd.get_dummies(test_data[features])\n",
    "\n",
    "model = RandomForestClassifier(n_estimators=100, max_depth=5, random_state=1)\n",
    "model.fit(X, y)\n",
    "predictions = model.predict(X_test)\n",
    "\n",
    "output = pd.DataFrame({'PassengerId': test_data.PassengerId, 'Survived': predictions})\n",
    "output.to_csv('submission.csv', index=False)\n",
    "print(\"Your submission was successfully saved!\")"
   ]
  },
  {
   "cell_type": "code",
   "execution_count": 7,
   "id": "149b405d",
   "metadata": {
    "execution": {
     "iopub.execute_input": "2025-05-11T18:47:24.022654Z",
     "iopub.status.busy": "2025-05-11T18:47:24.022319Z",
     "iopub.status.idle": "2025-05-11T18:47:24.030918Z",
     "shell.execute_reply": "2025-05-11T18:47:24.029941Z"
    },
    "papermill": {
     "duration": 0.01519,
     "end_time": "2025-05-11T18:47:24.032387",
     "exception": false,
     "start_time": "2025-05-11T18:47:24.017197",
     "status": "completed"
    },
    "tags": []
   },
   "outputs": [
    {
     "name": "stdout",
     "output_type": "stream",
     "text": [
      "Ölenlerin yaş ortalaması: 30.62617924528302\n",
      "Ölenlerin yaş ortalaması: 30\n"
     ]
    }
   ],
   "source": [
    "#Kazada ölenlerin yaş ortalamasını bulunuz\n",
    "\n",
    "\n",
    "dead_psngrs = train_data[train_data['Survived'] == 0]\n",
    "avrg_age_dead = dead_psngrs['Age'].mean()\n",
    "\n",
    "print(f\"Ölenlerin yaş ortalaması: {avrg_age_dead}\")\n",
    "print(f\"Ölenlerin yaş ortalaması: {int(avrg_age_dead)}\")\n"
   ]
  },
  {
   "cell_type": "code",
   "execution_count": 8,
   "id": "350bba2b",
   "metadata": {
    "execution": {
     "iopub.execute_input": "2025-05-11T18:47:24.042143Z",
     "iopub.status.busy": "2025-05-11T18:47:24.041827Z",
     "iopub.status.idle": "2025-05-11T18:47:24.048675Z",
     "shell.execute_reply": "2025-05-11T18:47:24.047456Z"
    },
    "papermill": {
     "duration": 0.013728,
     "end_time": "2025-05-11T18:47:24.050483",
     "exception": false,
     "start_time": "2025-05-11T18:47:24.036755",
     "status": "completed"
    },
    "tags": []
   },
   "outputs": [
    {
     "name": "stdout",
     "output_type": "stream",
     "text": [
      "Ölenlerin bilet ortalaması: 22.117886885245902\n",
      "Ölenlerin bilet ortalaması tam sayı: 22\n",
      "Ölenlerin bilet medyan: 10.5\n"
     ]
    }
   ],
   "source": [
    "# Kazada ölenlerin bilet fiyatlarının ortalamasını ve medyanını bulunuz\n",
    "\n",
    "mean_fare = dead_psngrs['Fare'].mean()\n",
    "median_fare = dead_psngrs['Fare'].median()\n",
    "\n",
    "print(f\"Ölenlerin bilet ortalaması: {mean_fare}\")\n",
    "\n",
    "print(f\"Ölenlerin bilet ortalaması tam sayı: {int(mean_fare)}\")\n",
    "\n",
    "print(f\"Ölenlerin bilet medyan: {median_fare}\")"
   ]
  },
  {
   "cell_type": "code",
   "execution_count": 9,
   "id": "fda64174",
   "metadata": {
    "execution": {
     "iopub.execute_input": "2025-05-11T18:47:24.061540Z",
     "iopub.status.busy": "2025-05-11T18:47:24.061229Z",
     "iopub.status.idle": "2025-05-11T18:47:24.069049Z",
     "shell.execute_reply": "2025-05-11T18:47:24.067790Z"
    },
    "papermill": {
     "duration": 0.015046,
     "end_time": "2025-05-11T18:47:24.070616",
     "exception": false,
     "start_time": "2025-05-11T18:47:24.055570",
     "status": "completed"
    },
    "tags": []
   },
   "outputs": [
    {
     "name": "stdout",
     "output_type": "stream",
     "text": [
      "Ölen erkeklerin yaş ortalaması: 31.618055555555557\n"
     ]
    }
   ],
   "source": [
    "#Kazada ölen erkeklerin yaş ortalamasını bulunuz\n",
    "dead_male = dead_psngrs[dead_psngrs['Sex'] == 'male']\n",
    "avrg_age_dead_male = dead_male['Age'].mean()\n",
    "print(f\"Ölen erkeklerin yaş ortalaması: {avrg_age_dead_male}\")"
   ]
  },
  {
   "cell_type": "code",
   "execution_count": 10,
   "id": "12279ea0",
   "metadata": {
    "execution": {
     "iopub.execute_input": "2025-05-11T18:47:24.080439Z",
     "iopub.status.busy": "2025-05-11T18:47:24.080118Z",
     "iopub.status.idle": "2025-05-11T18:47:24.087311Z",
     "shell.execute_reply": "2025-05-11T18:47:24.086148Z"
    },
    "papermill": {
     "duration": 0.013901,
     "end_time": "2025-05-11T18:47:24.088897",
     "exception": false,
     "start_time": "2025-05-11T18:47:24.074996",
     "status": "completed"
    },
    "tags": []
   },
   "outputs": [
    {
     "name": "stdout",
     "output_type": "stream",
     "text": [
      "25.046875\n"
     ]
    }
   ],
   "source": [
    "#Kazada ölen Kadınların yaş ortalamasını bulunuz\n",
    "dead_women = dead_psngrs[dead_psngrs['Sex'] == 'female']\n",
    "avg_age_dead_women = dead_women['Age'].mean()\n",
    "print(avg_age_dead_women)\n"
   ]
  },
  {
   "cell_type": "code",
   "execution_count": 11,
   "id": "9165a5c0",
   "metadata": {
    "execution": {
     "iopub.execute_input": "2025-05-11T18:47:24.100955Z",
     "iopub.status.busy": "2025-05-11T18:47:24.100503Z",
     "iopub.status.idle": "2025-05-11T18:47:24.107923Z",
     "shell.execute_reply": "2025-05-11T18:47:24.106955Z"
    },
    "papermill": {
     "duration": 0.016199,
     "end_time": "2025-05-11T18:47:24.109669",
     "exception": false,
     "start_time": "2025-05-11T18:47:24.093470",
     "status": "completed"
    },
    "tags": []
   },
   "outputs": [
    {
     "name": "stdout",
     "output_type": "stream",
     "text": [
      "28.343689655172415\n"
     ]
    }
   ],
   "source": [
    "#Kazadan kurtulanların yaş ortalamasını bulunuz\n",
    "survived_person = train_data[train_data['Survived'] == 1]\n",
    "srvr_age_mean = survived_person['Age'].mean()\n",
    "print(srvr_age_mean)"
   ]
  },
  {
   "cell_type": "code",
   "execution_count": 12,
   "id": "b2370a22",
   "metadata": {
    "execution": {
     "iopub.execute_input": "2025-05-11T18:47:24.120240Z",
     "iopub.status.busy": "2025-05-11T18:47:24.119939Z",
     "iopub.status.idle": "2025-05-11T18:47:24.125853Z",
     "shell.execute_reply": "2025-05-11T18:47:24.124604Z"
    },
    "papermill": {
     "duration": 0.013322,
     "end_time": "2025-05-11T18:47:24.127655",
     "exception": false,
     "start_time": "2025-05-11T18:47:24.114333",
     "status": "completed"
    },
    "tags": []
   },
   "outputs": [
    {
     "name": "stdout",
     "output_type": "stream",
     "text": [
      "48.39540760233918\n"
     ]
    }
   ],
   "source": [
    "# Kazadan kurtulanların bilet fiyatlarının ortalamasını bulunuz\n",
    "srvr_mean_far = survived_person['Fare'].mean()\n",
    "print(srvr_mean_far)"
   ]
  },
  {
   "cell_type": "code",
   "execution_count": 13,
   "id": "56c41483",
   "metadata": {
    "execution": {
     "iopub.execute_input": "2025-05-11T18:47:24.138354Z",
     "iopub.status.busy": "2025-05-11T18:47:24.138009Z",
     "iopub.status.idle": "2025-05-11T18:47:24.144710Z",
     "shell.execute_reply": "2025-05-11T18:47:24.143320Z"
    },
    "papermill": {
     "duration": 0.01425,
     "end_time": "2025-05-11T18:47:24.146444",
     "exception": false,
     "start_time": "2025-05-11T18:47:24.132194",
     "status": "completed"
    },
    "tags": []
   },
   "outputs": [
    {
     "name": "stdout",
     "output_type": "stream",
     "text": [
      "342\n"
     ]
    }
   ],
   "source": [
    "#Kazadan kurtulan toplam kişi sayısını bulunuz… \n",
    "#(tüyo: len(df_titanic[(df_titanic.Survived==1)]   kodu ile de bu sayıya ulaşabilirsiniz.)\n",
    "total_survivor_person = len(survived_person)\n",
    "print(total_survivor_person)"
   ]
  },
  {
   "cell_type": "code",
   "execution_count": 14,
   "id": "3fc1c17f",
   "metadata": {
    "execution": {
     "iopub.execute_input": "2025-05-11T18:47:24.157373Z",
     "iopub.status.busy": "2025-05-11T18:47:24.156928Z",
     "iopub.status.idle": "2025-05-11T18:47:24.164637Z",
     "shell.execute_reply": "2025-05-11T18:47:24.163787Z"
    },
    "papermill": {
     "duration": 0.015121,
     "end_time": "2025-05-11T18:47:24.166370",
     "exception": false,
     "start_time": "2025-05-11T18:47:24.151249",
     "status": "completed"
    },
    "tags": []
   },
   "outputs": [
    {
     "name": "stdout",
     "output_type": "stream",
     "text": [
      "27.0\n"
     ]
    },
    {
     "name": "stderr",
     "output_type": "stream",
     "text": [
      "/usr/local/lib/python3.11/dist-packages/pandas/core/computation/expressions.py:73: RuntimeWarning: invalid value encountered in less\n",
      "  return op(a, b)\n"
     ]
    }
   ],
   "source": [
    "#10 yaşından küçüklerin bilet fiyatlarının medyan değerini bulunuz\n",
    "psngrs = train_data[train_data['Age'] < 10]\n",
    "psngrs_fare = psngrs['Fare'].median()\n",
    "print(psngrs_fare)"
   ]
  },
  {
   "cell_type": "code",
   "execution_count": 15,
   "id": "c6cfbccb",
   "metadata": {
    "execution": {
     "iopub.execute_input": "2025-05-11T18:47:24.177463Z",
     "iopub.status.busy": "2025-05-11T18:47:24.177087Z",
     "iopub.status.idle": "2025-05-11T18:47:24.195960Z",
     "shell.execute_reply": "2025-05-11T18:47:24.194530Z"
    },
    "papermill": {
     "duration": 0.02691,
     "end_time": "2025-05-11T18:47:24.197987",
     "exception": false,
     "start_time": "2025-05-11T18:47:24.171077",
     "status": "completed"
    },
    "tags": []
   },
   "outputs": [
    {
     "name": "stdout",
     "output_type": "stream",
     "text": [
      "Sıralanmış Ortalama Bilet Fiyatları:\n",
      "   Pclass  Mean Fare\n",
      "0       1  84.154688\n",
      "1       2  20.662183\n",
      "2       3  13.675550\n",
      "\n",
      "Sıralanmış Medyan Bilet Fiyatları:\n",
      "   Pclass  Median Fare\n",
      "0       1      60.2875\n",
      "1       2      14.2500\n",
      "2       3       8.0500\n"
     ]
    }
   ],
   "source": [
    "#1.sınıf, 2.sınıf ve 3.sınıf bilet fiyatlarının ortalama ve medyanlarını karşılaştırınız. \n",
    "#(Pclass değişkeni sınıfları barındırmaktadır.)\n",
    "\n",
    "# 1. sınıf yolcularının bilet fiyatlarının ortalaması ve medyanı\n",
    "one_class = train_data[train_data['Pclass'] == 1]\n",
    "one_class_mean = one_class['Fare'].mean()\n",
    "one_class_median = one_class['Fare'].median()\n",
    "\n",
    "# 2. sınıf yolcularının bilet fiyatlarının ortalaması ve medyanı\n",
    "two_class = train_data[train_data['Pclass'] == 2]\n",
    "two_class_mean = two_class['Fare'].mean()\n",
    "two_class_median = two_class['Fare'].median()\n",
    "\n",
    "# 3. sınıf yolcularının bilet fiyatlarının ortalaması ve medyanı\n",
    "three_class = train_data[train_data['Pclass'] == 3]\n",
    "three_class_mean = three_class['Fare'].mean()\n",
    "three_class_median = three_class['Fare'].median()\n",
    "\n",
    "\n",
    "# Ortalama ve Medyan değerlerini birleştirme\n",
    "class_fares = {\n",
    "    'Pclass': [1, 2, 3],\n",
    "    'Mean Fare': [one_class_mean, two_class_mean, three_class_mean],\n",
    "    'Median Fare': [one_class_median, two_class_median, three_class_median]\n",
    "}\n",
    "\n",
    "# Veriyi DataFrame'e dönüştürme\n",
    "class_fares_df = pd.DataFrame(class_fares)\n",
    "\n",
    "# Ortalama bilet fiyatlarını sıralama\n",
    "sorted_mean_fare = class_fares_df[['Pclass', 'Mean Fare']].sort_values(by='Mean Fare', ascending=False)\n",
    "\n",
    "# Medyan bilet fiyatlarını sıralama\n",
    "sorted_median_fare = class_fares_df[['Pclass', 'Median Fare']].sort_values(by='Median Fare', ascending=False)\n",
    "\n",
    "# Sonuçları yazdırma\n",
    "print(\"Sıralanmış Ortalama Bilet Fiyatları:\")\n",
    "print(sorted_mean_fare)\n",
    "\n",
    "print(\"\\nSıralanmış Medyan Bilet Fiyatları:\")\n",
    "print(sorted_median_fare)\n",
    "\n",
    "\n"
   ]
  },
  {
   "cell_type": "code",
   "execution_count": 16,
   "id": "70194cbe",
   "metadata": {
    "execution": {
     "iopub.execute_input": "2025-05-11T18:47:24.208531Z",
     "iopub.status.busy": "2025-05-11T18:47:24.208236Z",
     "iopub.status.idle": "2025-05-11T18:47:24.217474Z",
     "shell.execute_reply": "2025-05-11T18:47:24.216398Z"
    },
    "papermill": {
     "duration": 0.016328,
     "end_time": "2025-05-11T18:47:24.219198",
     "exception": false,
     "start_time": "2025-05-11T18:47:24.202870",
     "status": "completed"
    },
    "tags": []
   },
   "outputs": [
    {
     "name": "stdout",
     "output_type": "stream",
     "text": [
      "ölen erkeklerin erkeklere oranı : 0.8110918544194108\n",
      "Kadınların oranı: 0.25796178343949044\n",
      "ölen kadınların ölen erkeklere oranı: 0.17307692307692307\n"
     ]
    }
   ],
   "source": [
    "#Kazada ölen kadınların oranı ile erkeklerin oranını karşılaştırınız. \n",
    "#(Örnek: erkekler için; ölen erkeklerin, erkek sayısına bölümü bu oranı vermektedir.\n",
    "\n",
    "#Erkeklerin oranı\n",
    "total_men = train_data[train_data['Sex'] == 'male']\n",
    "men_measure = len(dead_male) / len(total_men)\n",
    "print(\"ölen erkeklerin erkeklere oranı :\" ,men_measure)\n",
    "\n",
    "#Kadınların oranı\n",
    "total_women =train_data[train_data['Sex'] == 'female']\n",
    "women_measure = len(dead_women) / len(total_women)\n",
    "print(\"Kadınların oranı:\", women_measure)\n",
    "\n",
    "total_measure = len(dead_women) / len(dead_male)\n",
    "print(\"ölen kadınların ölen erkeklere oranı:\", total_measure)"
   ]
  }
 ],
 "metadata": {
  "kaggle": {
   "accelerator": "none",
   "dataSources": [
    {
     "databundleVersionId": 26502,
     "sourceId": 3136,
     "sourceType": "competition"
    }
   ],
   "dockerImageVersionId": 31012,
   "isGpuEnabled": false,
   "isInternetEnabled": false,
   "language": "python",
   "sourceType": "notebook"
  },
  "kernelspec": {
   "display_name": "Python 3",
   "language": "python",
   "name": "python3"
  },
  "language_info": {
   "codemirror_mode": {
    "name": "ipython",
    "version": 3
   },
   "file_extension": ".py",
   "mimetype": "text/x-python",
   "name": "python",
   "nbconvert_exporter": "python",
   "pygments_lexer": "ipython3",
   "version": "3.11.11"
  },
  "papermill": {
   "default_parameters": {},
   "duration": 11.176547,
   "end_time": "2025-05-11T18:47:24.945147",
   "environment_variables": {},
   "exception": null,
   "input_path": "__notebook__.ipynb",
   "output_path": "__notebook__.ipynb",
   "parameters": {},
   "start_time": "2025-05-11T18:47:13.768600",
   "version": "2.6.0"
  }
 },
 "nbformat": 4,
 "nbformat_minor": 5
}
